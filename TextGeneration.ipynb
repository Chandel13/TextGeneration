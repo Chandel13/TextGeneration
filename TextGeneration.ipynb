{
  "nbformat": 4,
  "nbformat_minor": 0,
  "metadata": {
    "colab": {
      "name": "TextGeneration.ipynb",
      "provenance": [],
      "collapsed_sections": []
    },
    "kernelspec": {
      "name": "python3",
      "display_name": "Python 3"
    },
    "accelerator": "GPU"
  },
  "cells": [
    {
      "cell_type": "code",
      "metadata": {
        "id": "_6NVr0OT7Ud5",
        "colab_type": "code",
        "colab": {}
      },
      "source": [
        "# import libraries\n",
        "\n",
        "import torch\n",
        "from torch import nn\n",
        "from fastai import * \n",
        "import pandas as pd\n",
        "import numpy as np\n",
        "from functools import partial\n",
        "import io\n",
        "import os\n",
        "from fastai.text import *"
      ],
      "execution_count": null,
      "outputs": []
    },
    {
      "cell_type": "markdown",
      "metadata": {
        "id": "PBEEIb0f8DfQ",
        "colab_type": "text"
      },
      "source": [
        "## **Load Dataset**"
      ]
    },
    {
      "cell_type": "code",
      "metadata": {
        "id": "fKfi8BeW7Wc6",
        "colab_type": "code",
        "colab": {
          "base_uri": "https://localhost:8080/",
          "height": 84
        },
        "outputId": "6689da20-cf99-422b-a597-ae5b669a503c"
      },
      "source": [
        "path = untar_data(URLs.AG_NEWS)\n",
        "path.ls()"
      ],
      "execution_count": null,
      "outputs": [
        {
          "output_type": "execute_result",
          "data": {
            "text/plain": [
              "[PosixPath('/root/.fastai/data/ag_news_csv/train.csv'),\n",
              " PosixPath('/root/.fastai/data/ag_news_csv/classes.txt'),\n",
              " PosixPath('/root/.fastai/data/ag_news_csv/readme.txt'),\n",
              " PosixPath('/root/.fastai/data/ag_news_csv/test.csv')]"
            ]
          },
          "metadata": {
            "tags": []
          },
          "execution_count": 76
        }
      ]
    },
    {
      "cell_type": "code",
      "metadata": {
        "id": "9wcj4K4m7YAm",
        "colab_type": "code",
        "colab": {
          "base_uri": "https://localhost:8080/",
          "height": 195
        },
        "outputId": "8cf77d4d-a17d-4d33-894f-061857d3a2ff"
      },
      "source": [
        "df_train = pd.read_csv('/root/.fastai/data/ag_news_csv/train.csv')\n",
        "df_train.head()"
      ],
      "execution_count": null,
      "outputs": [
        {
          "output_type": "execute_result",
          "data": {
            "text/html": [
              "<div>\n",
              "<style scoped>\n",
              "    .dataframe tbody tr th:only-of-type {\n",
              "        vertical-align: middle;\n",
              "    }\n",
              "\n",
              "    .dataframe tbody tr th {\n",
              "        vertical-align: top;\n",
              "    }\n",
              "\n",
              "    .dataframe thead th {\n",
              "        text-align: right;\n",
              "    }\n",
              "</style>\n",
              "<table border=\"1\" class=\"dataframe\">\n",
              "  <thead>\n",
              "    <tr style=\"text-align: right;\">\n",
              "      <th></th>\n",
              "      <th>3</th>\n",
              "      <th>Wall St. Bears Claw Back Into the Black (Reuters)</th>\n",
              "      <th>Reuters - Short-sellers, Wall Street's dwindling\\band of ultra-cynics, are seeing green again.</th>\n",
              "    </tr>\n",
              "  </thead>\n",
              "  <tbody>\n",
              "    <tr>\n",
              "      <th>0</th>\n",
              "      <td>3</td>\n",
              "      <td>Carlyle Looks Toward Commercial Aerospace (Reu...</td>\n",
              "      <td>Reuters - Private investment firm Carlyle Grou...</td>\n",
              "    </tr>\n",
              "    <tr>\n",
              "      <th>1</th>\n",
              "      <td>3</td>\n",
              "      <td>Oil and Economy Cloud Stocks' Outlook (Reuters)</td>\n",
              "      <td>Reuters - Soaring crude prices plus worries\\ab...</td>\n",
              "    </tr>\n",
              "    <tr>\n",
              "      <th>2</th>\n",
              "      <td>3</td>\n",
              "      <td>Iraq Halts Oil Exports from Main Southern Pipe...</td>\n",
              "      <td>Reuters - Authorities have halted oil export\\f...</td>\n",
              "    </tr>\n",
              "    <tr>\n",
              "      <th>3</th>\n",
              "      <td>3</td>\n",
              "      <td>Oil prices soar to all-time record, posing new...</td>\n",
              "      <td>AFP - Tearaway world oil prices, toppling reco...</td>\n",
              "    </tr>\n",
              "    <tr>\n",
              "      <th>4</th>\n",
              "      <td>3</td>\n",
              "      <td>Stocks End Up, But Near Year Lows (Reuters)</td>\n",
              "      <td>Reuters - Stocks ended slightly higher on Frid...</td>\n",
              "    </tr>\n",
              "  </tbody>\n",
              "</table>\n",
              "</div>"
            ],
            "text/plain": [
              "   3  ... Reuters - Short-sellers, Wall Street's dwindling\\band of ultra-cynics, are seeing green again.\n",
              "0  3  ...  Reuters - Private investment firm Carlyle Grou...                                            \n",
              "1  3  ...  Reuters - Soaring crude prices plus worries\\ab...                                            \n",
              "2  3  ...  Reuters - Authorities have halted oil export\\f...                                            \n",
              "3  3  ...  AFP - Tearaway world oil prices, toppling reco...                                            \n",
              "4  3  ...  Reuters - Stocks ended slightly higher on Frid...                                            \n",
              "\n",
              "[5 rows x 3 columns]"
            ]
          },
          "metadata": {
            "tags": []
          },
          "execution_count": 77
        }
      ]
    },
    {
      "cell_type": "code",
      "metadata": {
        "id": "ia2QzZNy7Z_u",
        "colab_type": "code",
        "colab": {
          "base_uri": "https://localhost:8080/",
          "height": 195
        },
        "outputId": "e268c55e-2f0e-4f3c-d9eb-70d8808feaad"
      },
      "source": [
        "df_valid = pd.read_csv('/root/.fastai/data/ag_news_csv/test.csv')\n",
        "df_valid.head()"
      ],
      "execution_count": null,
      "outputs": [
        {
          "output_type": "execute_result",
          "data": {
            "text/html": [
              "<div>\n",
              "<style scoped>\n",
              "    .dataframe tbody tr th:only-of-type {\n",
              "        vertical-align: middle;\n",
              "    }\n",
              "\n",
              "    .dataframe tbody tr th {\n",
              "        vertical-align: top;\n",
              "    }\n",
              "\n",
              "    .dataframe thead th {\n",
              "        text-align: right;\n",
              "    }\n",
              "</style>\n",
              "<table border=\"1\" class=\"dataframe\">\n",
              "  <thead>\n",
              "    <tr style=\"text-align: right;\">\n",
              "      <th></th>\n",
              "      <th>3</th>\n",
              "      <th>Fears for T N pension after talks</th>\n",
              "      <th>Unions representing workers at Turner   Newall say they are 'disappointed' after talks with stricken parent firm Federal Mogul.</th>\n",
              "    </tr>\n",
              "  </thead>\n",
              "  <tbody>\n",
              "    <tr>\n",
              "      <th>0</th>\n",
              "      <td>4</td>\n",
              "      <td>The Race is On: Second Private Team Sets Launc...</td>\n",
              "      <td>SPACE.com - TORONTO, Canada -- A second\\team o...</td>\n",
              "    </tr>\n",
              "    <tr>\n",
              "      <th>1</th>\n",
              "      <td>4</td>\n",
              "      <td>Ky. Company Wins Grant to Study Peptides (AP)</td>\n",
              "      <td>AP - A company founded by a chemistry research...</td>\n",
              "    </tr>\n",
              "    <tr>\n",
              "      <th>2</th>\n",
              "      <td>4</td>\n",
              "      <td>Prediction Unit Helps Forecast Wildfires (AP)</td>\n",
              "      <td>AP - It's barely dawn when Mike Fitzpatrick st...</td>\n",
              "    </tr>\n",
              "    <tr>\n",
              "      <th>3</th>\n",
              "      <td>4</td>\n",
              "      <td>Calif. Aims to Limit Farm-Related Smog (AP)</td>\n",
              "      <td>AP - Southern California's smog-fighting agenc...</td>\n",
              "    </tr>\n",
              "    <tr>\n",
              "      <th>4</th>\n",
              "      <td>4</td>\n",
              "      <td>Open Letter Against British Copyright Indoctri...</td>\n",
              "      <td>The British Department for Education and Skill...</td>\n",
              "    </tr>\n",
              "  </tbody>\n",
              "</table>\n",
              "</div>"
            ],
            "text/plain": [
              "   3  ... Unions representing workers at Turner   Newall say they are 'disappointed' after talks with stricken parent firm Federal Mogul.\n",
              "0  4  ...  SPACE.com - TORONTO, Canada -- A second\\team o...                                                                             \n",
              "1  4  ...  AP - A company founded by a chemistry research...                                                                             \n",
              "2  4  ...  AP - It's barely dawn when Mike Fitzpatrick st...                                                                             \n",
              "3  4  ...  AP - Southern California's smog-fighting agenc...                                                                             \n",
              "4  4  ...  The British Department for Education and Skill...                                                                             \n",
              "\n",
              "[5 rows x 3 columns]"
            ]
          },
          "metadata": {
            "tags": []
          },
          "execution_count": 78
        }
      ]
    },
    {
      "cell_type": "code",
      "metadata": {
        "id": "x3qAqmEw7eZD",
        "colab_type": "code",
        "colab": {
          "base_uri": "https://localhost:8080/",
          "height": 34
        },
        "outputId": "e74043a1-f8c0-41d2-c33e-21e4fe699908"
      },
      "source": [
        "df_train.shape, df_valid.shape"
      ],
      "execution_count": null,
      "outputs": [
        {
          "output_type": "execute_result",
          "data": {
            "text/plain": [
              "((119999, 3), (7599, 3))"
            ]
          },
          "metadata": {
            "tags": []
          },
          "execution_count": 79
        }
      ]
    },
    {
      "cell_type": "code",
      "metadata": {
        "id": "F5HysucP7gk3",
        "colab_type": "code",
        "colab": {}
      },
      "source": [
        "bs = 12"
      ],
      "execution_count": null,
      "outputs": []
    },
    {
      "cell_type": "code",
      "metadata": {
        "id": "HfjcAIxD7i92",
        "colab_type": "code",
        "colab": {
          "base_uri": "https://localhost:8080/",
          "height": 17
        },
        "outputId": "b5d3ff8c-232b-4b44-bfc6-ee785a453f73"
      },
      "source": [
        "train = TextList(df_train, path=path)\n",
        "valid = TextList(df_valid, path=path)\n",
        "\n",
        "src = ItemLists(path=path, train=train, valid=valid).label_for_lm()\n",
        "data = src.databunch(bs=bs)"
      ],
      "execution_count": null,
      "outputs": [
        {
          "output_type": "display_data",
          "data": {
            "text/html": [
              ""
            ],
            "text/plain": [
              "<IPython.core.display.HTML object>"
            ]
          },
          "metadata": {
            "tags": []
          }
        },
        {
          "output_type": "display_data",
          "data": {
            "text/html": [
              ""
            ],
            "text/plain": [
              "<IPython.core.display.HTML object>"
            ]
          },
          "metadata": {
            "tags": []
          }
        }
      ]
    },
    {
      "cell_type": "code",
      "metadata": {
        "id": "e0ks6p327j9t",
        "colab_type": "code",
        "colab": {
          "base_uri": "https://localhost:8080/",
          "height": 279
        },
        "outputId": "eb85e86e-8eb5-4c82-c36e-820e4ac4caaa"
      },
      "source": [
        "data.show_batch()"
      ],
      "execution_count": null,
      "outputs": [
        {
          "output_type": "display_data",
          "data": {
            "text/html": [
              "<table border=\"1\" class=\"dataframe\">\n",
              "  <thead>\n",
              "    <tr style=\"text-align: right;\">\n",
              "      <th>idx</th>\n",
              "      <th>text</th>\n",
              "    </tr>\n",
              "  </thead>\n",
              "  <tbody>\n",
              "    <tr>\n",
              "      <td>0</td>\n",
              "      <td>xxmaj stocks ' xxmaj outlook ( xxmaj reuters ) xxmaj reuters - xxmaj soaring crude prices plus worries \\ about the economy and the outlook for earnings are expected to \\ hang over the stock market next week during the depth of the \\ summer doldrums . xxbos 3 xxmaj iraq xxmaj halts xxmaj oil xxmaj exports from xxmaj main xxmaj southern xxmaj pipeline ( xxmaj reuters ) xxmaj reuters</td>\n",
              "    </tr>\n",
              "    <tr>\n",
              "      <td>1</td>\n",
              "      <td>xxmaj open source makes noise xxmaj developers forum looks at xxmaj linux for the disabled . xxmaj also : xxmaj microsoft chided for ad campaign . xxbos 4 xxmaj microsoft wraps up xxup mom 2005 management tool xxmaj microsoft xxmaj corp. on xxmaj wednesday said it has finished work on xxmaj microsoft xxmaj operations xxmaj manager ( xxup mom ) 2005 , a major update to its xxup mom 2000</td>\n",
              "    </tr>\n",
              "    <tr>\n",
              "      <td>2</td>\n",
              "      <td>- down sectors such as technology and insurers . xxbos 3 xxmaj monti backs bid for xxmaj abbey xxup eu xxup competition commissioner xxmaj mario xxmaj monti has backed xxmaj banco xxmaj santander xxmaj centrale xxmaj xxunk 8.75 billion bid for xxmaj abbey xxmaj national . xxmaj monti suggested support for a xxmaj spanish bid , saying : ' xxmaj at first glance , it is a contribution xxbos 3</td>\n",
              "    </tr>\n",
              "    <tr>\n",
              "      <td>3</td>\n",
              "      <td>satellite xxmaj radio xxmaj holdings xxmaj inc. ( xxup xmsr ) will soon begin broadcasting some of its stations to subscribers over the xxmaj internet , fresh on the heels of the company 's discontinuation of a receiver for pcs that some users used to circumvent the music industry 's crackdown on illegal file sharing . xxbos 4 xxup at t xxmaj wireless to xxmaj offer xxmaj xxunk xxmaj messaging</td>\n",
              "    </tr>\n",
              "    <tr>\n",
              "      <td>4</td>\n",
              "      <td>xxmaj president xxmaj hamid xxmaj karzai 's swearing - in ceremony , but the xxup us - led military said watertight security on the ground and in the air would stop any attack . xxbos 1 xxup un chief promises more staff to xxmaj iraq when possible xxup un xxmaj secretary - xxmaj general xxmaj kofi xxmaj annan assured the xxmaj iraqis that the world body will provide assistance to</td>\n",
              "    </tr>\n",
              "  </tbody>\n",
              "</table>"
            ],
            "text/plain": [
              "<IPython.core.display.HTML object>"
            ]
          },
          "metadata": {
            "tags": []
          }
        }
      ]
    },
    {
      "cell_type": "code",
      "metadata": {
        "id": "ha21E5t57mfI",
        "colab_type": "code",
        "colab": {}
      },
      "source": [
        "v = data.valid_ds.vocab"
      ],
      "execution_count": null,
      "outputs": []
    },
    {
      "cell_type": "code",
      "metadata": {
        "id": "0BIpgBKy7oVY",
        "colab_type": "code",
        "colab": {
          "base_uri": "https://localhost:8080/",
          "height": 34
        },
        "outputId": "3e812b7f-d528-4419-d488-61626d7821b4"
      },
      "source": [
        "len(v.itos), len(v.stoi)"
      ],
      "execution_count": null,
      "outputs": [
        {
          "output_type": "execute_result",
          "data": {
            "text/plain": [
              "(37264, 75055)"
            ]
          },
          "metadata": {
            "tags": []
          },
          "execution_count": 84
        }
      ]
    },
    {
      "cell_type": "code",
      "metadata": {
        "id": "ospNJRYNBCpx",
        "colab_type": "code",
        "colab": {
          "base_uri": "https://localhost:8080/",
          "height": 34
        },
        "outputId": "b77681c6-978d-4fa9-eeaa-371aca0b8387"
      },
      "source": [
        "n_text = len(v.itos) ; n_text"
      ],
      "execution_count": null,
      "outputs": [
        {
          "output_type": "execute_result",
          "data": {
            "text/plain": [
              "37264"
            ]
          },
          "metadata": {
            "tags": []
          },
          "execution_count": 85
        }
      ]
    },
    {
      "cell_type": "code",
      "metadata": {
        "id": "L19aF3OhxfPC",
        "colab_type": "code",
        "colab": {
          "base_uri": "https://localhost:8080/",
          "height": 34
        },
        "outputId": "47c7c9d4-b319-4229-89b4-bd3f06b9c1a7"
      },
      "source": [
        "len(data.train_dl), len(data.valid_dl)"
      ],
      "execution_count": null,
      "outputs": [
        {
          "output_type": "execute_result",
          "data": {
            "text/plain": [
              "(8055, 508)"
            ]
          },
          "metadata": {
            "tags": []
          },
          "execution_count": 86
        }
      ]
    },
    {
      "cell_type": "markdown",
      "metadata": {
        "id": "WeL1OW7h8b3J",
        "colab_type": "text"
      },
      "source": [
        "## **Model**"
      ]
    },
    {
      "cell_type": "markdown",
      "metadata": {
        "id": "hqjfKpyw8lpi",
        "colab_type": "text"
      },
      "source": [
        "Device Configuration"
      ]
    },
    {
      "cell_type": "code",
      "metadata": {
        "id": "HrKSfKBe8ioJ",
        "colab_type": "code",
        "colab": {}
      },
      "source": [
        "device = torch.device('cuda' if torch.cuda.is_available() else 'cpu')"
      ],
      "execution_count": null,
      "outputs": []
    },
    {
      "cell_type": "markdown",
      "metadata": {
        "id": "BAvjO-4P8yaR",
        "colab_type": "text"
      },
      "source": [
        "LSTM Module"
      ]
    },
    {
      "cell_type": "code",
      "metadata": {
        "id": "JYFwVJ9bMGOP",
        "colab_type": "code",
        "colab": {}
      },
      "source": [
        "batch_size =12"
      ],
      "execution_count": null,
      "outputs": []
    },
    {
      "cell_type": "code",
      "metadata": {
        "id": "d1MMAX3T8psL",
        "colab_type": "code",
        "colab": {}
      },
      "source": [
        "class RNN(nn.Module):\n",
        "    def __init__(self, input_size, hidden_size, num_layers, output_size):\n",
        "        super(RNN, self).__init__()\n",
        "        \"\"\"\n",
        "        Initialize the model by setting up the layers.\n",
        "        \"\"\"\n",
        "        self.hidden_size = hidden_size\n",
        "        self.num_layers = num_layers\n",
        "\n",
        "        # Embedding and LSTM layers\n",
        "        self.embed = nn.Embedding(input_size, hidden_size)\n",
        "        self.lstm = nn.LSTM(hidden_size, hidden_size, num_layers, batch_first=True)\n",
        "\n",
        "        # Linear layer\n",
        "        self.fc = nn.Linear(hidden_size, output_size)\n",
        "\n",
        "    def forward(self, x, hidden, cell):\n",
        "        \"\"\"\n",
        "        Perform a forward pass of our model on some input and hidden state.\n",
        "        \"\"\"\n",
        "        out = self.embed(x)\n",
        "        out, (hidden, cell) = self.lstm(out.unsqueeze(1), (hidden, cell))\n",
        "        out = self.fc(out.reshape(out.shape[0], -1))\n",
        "        return out, (hidden, cell)\n",
        "\n",
        "    def init_hidden(self, batch_size):\n",
        "        hidden = torch.zeros(self.num_layers, batch_size, self.hidden_size).to(device)\n",
        "        cell = torch.zeros(self.num_layers, batch_size, self.hidden_size).to(device)\n",
        "        return hidden, cell"
      ],
      "execution_count": null,
      "outputs": []
    },
    {
      "cell_type": "code",
      "metadata": {
        "id": "IsYy5uiA7yrw",
        "colab_type": "code",
        "colab": {}
      },
      "source": [
        "class Generator() : \n",
        "    def __init__(self) : \n",
        "        self.chunk_len = 70\n",
        "        self.num_epochs = 200\n",
        "        self.batch_size = 12\n",
        "        self.print_every = 40\n",
        "        self.hidden_size = 256\n",
        "        self.num_layers = 2\n",
        "        self.lr = 0.02\n",
        "        self.len = len(data.train_dl)\n",
        "    \n",
        "    # To get random batch\n",
        "    def random_batch(self) :\n",
        "        text_input = torch.zeros( self.batch_size, self.chunk_len) #x,y = next(iter(data.train_dl)) ; len(x) = 12\n",
        "        text_target = torch.zeros(  self.batch_size , self.chunk_len)  #x,y = next(iter(data.train_dl)) ; len(x) = 12\n",
        "      \n",
        "        text_input, text_target =  next(iter(data.train_dl))\n",
        "\n",
        "        return text_input.to(device).long(), text_target.to(device).long()  \n",
        "\n",
        "    # Generate Function\n",
        "    def generate(self, initial_str=' today the news is ', predict_len = 100, temperature = 0.85) :\n",
        "        hidden, cell = self.rnn.init_hidden( batch_size = self.batch_size)\n",
        "\n",
        "        initial_input = string_to_int(initial_str)\n",
        "        predicted = initial_str\n",
        "\n",
        "        \"\"\"for p in range(len(initial_str) - 1):\n",
        "            _, (hidden, cell) = self.rnn( initial_input[p], hidden, cell )\n",
        "\n",
        "        last_char = initial_input[-1]\"\"\"\n",
        "        torch_idx = torch.tensor(initial_input)\n",
        "        for p in range(predict_len):\n",
        "            output, (hidden, cell) = self.rnn( torch_idx.to(device) , hidden, cell  )\n",
        "            output_dist = output.data.view(-1).div(temperature).exp()\n",
        "            top_str = torch.multinomial(output_dist, 1)[0]\n",
        "            predicted_char = v.itos[top_str]\n",
        "            predicted += predicted_char\n",
        "            last_char = v.stoi[predicted_char]\n",
        "\n",
        "        return predicted\n",
        "\n",
        "    #Train Function\n",
        "    def train(self) : \n",
        "        self.rnn = RNN(n_text, self.hidden_size, self.num_layers, n_text  ).to(device)\n",
        "\n",
        "        optimizer = torch.optim.Adam( self.rnn.parameters(), lr = self.lr) \n",
        "        criterion = nn.CrossEntropyLoss()\n",
        "\n",
        "        print( \" Starting Training : \")\n",
        "        inp, target = self.random_batch()\n",
        "        for epoch in range(1, self.num_epochs + 1) :\n",
        "           \n",
        "            hidden, cell = self.rnn.init_hidden(batch_size = self.batch_size)\n",
        "            self.rnn.zero_grad()\n",
        "            loss = 0\n",
        "            inp = inp.to(device)\n",
        "            target = target.to(device)\n",
        "            correct = 0\n",
        "            total = 0\n",
        "            for i in range(self.chunk_len) :\n",
        "                output, (hidden, cell) = self.rnn(inp[ :,i], hidden, cell)\n",
        "                loss += criterion(output, target[ :, i]) \n",
        "                \"\"\"print(\"Output Shape :\", output[:, i].shape, output.shape)\n",
        "                print(\" Target Shape : \", target[:,i].shape)\n",
        "\n",
        "                if ( output.data[:,i] == target[:, i]) :          \n",
        "                    correct +=1\"\"\"\n",
        "                #correct += (output.data[:,i] == target[:, i]).sum()\n",
        "                #correct += torch.eq(output[i :, c], target[ i :c])\n",
        "                total += len(output)\n",
        "\n",
        "            l = correct/ total\n",
        "            accuracy = 100 * l\n",
        "            loss.backward()\n",
        "            optimizer.step()\n",
        "            loss = loss.item() / self.chunk_len\n",
        "\n",
        "            if epoch % self.print_every == 0 :\n",
        "                print(f\"Iteration: {epoch}\")\n",
        "                print(f\"Loss: {loss}\")\n",
        "                #print(f\"Accuracy: {accuracy}\")\n",
        "                print(self.generate())\n"
      ],
      "execution_count": null,
      "outputs": []
    },
    {
      "cell_type": "code",
      "metadata": {
        "id": "LK5ClGruAIZX",
        "colab_type": "code",
        "colab": {
          "base_uri": "https://localhost:8080/",
          "height": 202
        },
        "outputId": "38e53d03-f378-4353-f4b0-45596b9e8f37"
      },
      "source": [
        "getNews = Generator()\n",
        "getNews.train()"
      ],
      "execution_count": null,
      "outputs": [
        {
          "output_type": "stream",
          "text": [
            " Starting Training : \n",
            "Iteration: 40\n",
            "Loss: 5.009692818777902\n",
            "Iteration: 80\n",
            "Loss: 4.122496686662946\n",
            "Iteration: 120\n",
            "Loss: 3.261800275530134\n",
            "Iteration: 160\n",
            "Loss: 2.648405020577567\n",
            "Iteration: 200\n",
            "Loss: 1.971807861328125\n"
          ],
          "name": "stdout"
        }
      ]
    },
    {
      "cell_type": "code",
      "metadata": {
        "id": "i44DIOF3EEbi",
        "colab_type": "code",
        "colab": {}
      },
      "source": [
        ""
      ],
      "execution_count": null,
      "outputs": []
    }
  ]
}